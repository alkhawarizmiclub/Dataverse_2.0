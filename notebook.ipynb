{
  "nbformat": 4,
  "nbformat_minor": 0,
  "metadata": {
    "colab": {
      "provenance": []
    },
    "kernelspec": {
      "name": "python3",
      "display_name": "Python 3"
    },
    "language_info": {
      "name": "python"
    }
  },
  "cells": [
    {
      "cell_type": "markdown",
      "source": [
        "Envirenmont prep"
      ],
      "metadata": {
        "id": "mmjU1OxMz2Gz"
      }
    },
    {
      "cell_type": "code",
      "source": [
        "!pip install numpy pandas matplotlib lightgbm xgboost scikit-learn"
      ],
      "metadata": {
        "id": "38bM-Mjiz64y",
        "colab": {
          "base_uri": "https://localhost:8080/"
        },
        "outputId": "e036c315-40a1-47f9-92de-2ee7b6babefe"
      },
      "execution_count": 48,
      "outputs": [
        {
          "output_type": "stream",
          "name": "stdout",
          "text": [
            "Requirement already satisfied: numpy in /usr/local/lib/python3.10/dist-packages (1.23.5)\n",
            "Requirement already satisfied: pandas in /usr/local/lib/python3.10/dist-packages (1.5.3)\n",
            "Requirement already satisfied: matplotlib in /usr/local/lib/python3.10/dist-packages (3.7.1)\n",
            "Requirement already satisfied: lightgbm in /usr/local/lib/python3.10/dist-packages (4.1.0)\n",
            "Requirement already satisfied: xgboost in /usr/local/lib/python3.10/dist-packages (2.0.2)\n",
            "Requirement already satisfied: scikit-learn in /usr/local/lib/python3.10/dist-packages (1.2.2)\n",
            "Requirement already satisfied: python-dateutil>=2.8.1 in /usr/local/lib/python3.10/dist-packages (from pandas) (2.8.2)\n",
            "Requirement already satisfied: pytz>=2020.1 in /usr/local/lib/python3.10/dist-packages (from pandas) (2023.3.post1)\n",
            "Requirement already satisfied: contourpy>=1.0.1 in /usr/local/lib/python3.10/dist-packages (from matplotlib) (1.2.0)\n",
            "Requirement already satisfied: cycler>=0.10 in /usr/local/lib/python3.10/dist-packages (from matplotlib) (0.12.1)\n",
            "Requirement already satisfied: fonttools>=4.22.0 in /usr/local/lib/python3.10/dist-packages (from matplotlib) (4.44.3)\n",
            "Requirement already satisfied: kiwisolver>=1.0.1 in /usr/local/lib/python3.10/dist-packages (from matplotlib) (1.4.5)\n",
            "Requirement already satisfied: packaging>=20.0 in /usr/local/lib/python3.10/dist-packages (from matplotlib) (23.2)\n",
            "Requirement already satisfied: pillow>=6.2.0 in /usr/local/lib/python3.10/dist-packages (from matplotlib) (9.4.0)\n",
            "Requirement already satisfied: pyparsing>=2.3.1 in /usr/local/lib/python3.10/dist-packages (from matplotlib) (3.1.1)\n",
            "Requirement already satisfied: scipy in /usr/local/lib/python3.10/dist-packages (from lightgbm) (1.11.3)\n",
            "Requirement already satisfied: joblib>=1.1.1 in /usr/local/lib/python3.10/dist-packages (from scikit-learn) (1.3.2)\n",
            "Requirement already satisfied: threadpoolctl>=2.0.0 in /usr/local/lib/python3.10/dist-packages (from scikit-learn) (3.2.0)\n",
            "Requirement already satisfied: six>=1.5 in /usr/local/lib/python3.10/dist-packages (from python-dateutil>=2.8.1->pandas) (1.16.0)\n"
          ]
        }
      ]
    },
    {
      "cell_type": "markdown",
      "source": [
        "Importing necessary libraries"
      ],
      "metadata": {
        "id": "eJSk4O8mz7n7"
      }
    },
    {
      "cell_type": "code",
      "execution_count": 49,
      "metadata": {
        "id": "DKU8xqAjF4mR"
      },
      "outputs": [],
      "source": [
        "import numpy as np\n",
        "import pandas as pd\n",
        "import matplotlib.pyplot as plt\n",
        "import lightgbm as lgb\n",
        "from xgboost import XGBRegressor\n",
        "\n",
        "from sklearn.preprocessing import StandardScaler, LabelEncoder\n",
        "from sklearn.model_selection import train_test_split\n",
        "from sklearn.linear_model import LinearRegression, Lasso\n",
        "from sklearn.ensemble import RandomForestRegressor\n",
        "from sklearn.tree import DecisionTreeRegressor\n",
        "from sklearn.metrics import mean_squared_error, r2_score, median_absolute_error, mean_absolute_error"
      ]
    },
    {
      "cell_type": "markdown",
      "source": [
        "# Data Exploring"
      ],
      "metadata": {
        "id": "9P63P6LcKaUk"
      }
    },
    {
      "cell_type": "code",
      "source": [
        "# Loading the training data\n",
        "dataset = pd.read_csv('training_dataset.csv')\n",
        "\n",
        "# Displaying the data\n",
        "dataset"
      ],
      "metadata": {
        "id": "E2yfyAWfF-Hw",
        "colab": {
          "base_uri": "https://localhost:8080/",
          "height": 424
        },
        "outputId": "19cec8a3-39bb-4106-9329-c5e80687b8c7"
      },
      "execution_count": 50,
      "outputs": [
        {
          "output_type": "execute_result",
          "data": {
            "text/plain": [
              "       Manufacturer     Price Body Style  Fuel Efficiency  Engine Volume  \\\n",
              "0               BMW   39700.0      sedan              231            2.5   \n",
              "1     Mercedes-Benz  147500.0      sedan              317            5.0   \n",
              "2               BMW   90300.0      sedan              197            3.0   \n",
              "3               BMW  525900.0  crossover              178            4.0   \n",
              "4              Audi  400500.0  crossover              115            3.0   \n",
              "...             ...       ...        ...              ...            ...   \n",
              "3036           Audi   46300.0      sedan              340            2.4   \n",
              "3037     Volkswagen  132500.0      vagon               96            NaN   \n",
              "3038     Volkswagen  343410.0        van                0            2.0   \n",
              "3039        Renault   36400.0        van              260            2.2   \n",
              "3040        Renault   46850.0        van              188            1.5   \n",
              "\n",
              "     Powertrain License Status  Manufacture Year  Variant    Location  \\\n",
              "0        Petrol            yes              1990      525   marrakech   \n",
              "1        Petrol            yes              2001    S 500     mekness   \n",
              "2        Petrol            yes              2001      530       oujda   \n",
              "3        Diesel            yes              2012       X5      tanger   \n",
              "4        Diesel            yes              2010       Q7      sefrou   \n",
              "...         ...            ...               ...      ...         ...   \n",
              "3036        Gas            yes              1998       A6  Casablanca   \n",
              "3037     Petrol            yes              2010  Golf VI  Casablanca   \n",
              "3038     Diesel            yes              2014   Touran  Casablanca   \n",
              "3039     Diesel             no              2005   Espace      tanger   \n",
              "3040     Diesel            yes              2004   Kangoo     mekness   \n",
              "\n",
              "      Distance Covered    Gearbox Owner_Type  \n",
              "0                70704     Manual      First  \n",
              "1                65650     Manual      First  \n",
              "2                93700     Manual      First  \n",
              "3                72465     Manual      First  \n",
              "4                34000     Manual      First  \n",
              "...                ...        ...        ...  \n",
              "3036             84000     Manual      First  \n",
              "3037             99000  Automatic      Third  \n",
              "3038             65148  Automatic      First  \n",
              "3039             48394  Automatic      First  \n",
              "3040             90000  Automatic      First  \n",
              "\n",
              "[3041 rows x 13 columns]"
            ],
            "text/html": [
              "\n",
              "  <div id=\"df-6123d1fc-1e63-41b5-8e19-3eec1edd9e1b\" class=\"colab-df-container\">\n",
              "    <div>\n",
              "<style scoped>\n",
              "    .dataframe tbody tr th:only-of-type {\n",
              "        vertical-align: middle;\n",
              "    }\n",
              "\n",
              "    .dataframe tbody tr th {\n",
              "        vertical-align: top;\n",
              "    }\n",
              "\n",
              "    .dataframe thead th {\n",
              "        text-align: right;\n",
              "    }\n",
              "</style>\n",
              "<table border=\"1\" class=\"dataframe\">\n",
              "  <thead>\n",
              "    <tr style=\"text-align: right;\">\n",
              "      <th></th>\n",
              "      <th>Manufacturer</th>\n",
              "      <th>Price</th>\n",
              "      <th>Body Style</th>\n",
              "      <th>Fuel Efficiency</th>\n",
              "      <th>Engine Volume</th>\n",
              "      <th>Powertrain</th>\n",
              "      <th>License Status</th>\n",
              "      <th>Manufacture Year</th>\n",
              "      <th>Variant</th>\n",
              "      <th>Location</th>\n",
              "      <th>Distance Covered</th>\n",
              "      <th>Gearbox</th>\n",
              "      <th>Owner_Type</th>\n",
              "    </tr>\n",
              "  </thead>\n",
              "  <tbody>\n",
              "    <tr>\n",
              "      <th>0</th>\n",
              "      <td>BMW</td>\n",
              "      <td>39700.0</td>\n",
              "      <td>sedan</td>\n",
              "      <td>231</td>\n",
              "      <td>2.5</td>\n",
              "      <td>Petrol</td>\n",
              "      <td>yes</td>\n",
              "      <td>1990</td>\n",
              "      <td>525</td>\n",
              "      <td>marrakech</td>\n",
              "      <td>70704</td>\n",
              "      <td>Manual</td>\n",
              "      <td>First</td>\n",
              "    </tr>\n",
              "    <tr>\n",
              "      <th>1</th>\n",
              "      <td>Mercedes-Benz</td>\n",
              "      <td>147500.0</td>\n",
              "      <td>sedan</td>\n",
              "      <td>317</td>\n",
              "      <td>5.0</td>\n",
              "      <td>Petrol</td>\n",
              "      <td>yes</td>\n",
              "      <td>2001</td>\n",
              "      <td>S 500</td>\n",
              "      <td>mekness</td>\n",
              "      <td>65650</td>\n",
              "      <td>Manual</td>\n",
              "      <td>First</td>\n",
              "    </tr>\n",
              "    <tr>\n",
              "      <th>2</th>\n",
              "      <td>BMW</td>\n",
              "      <td>90300.0</td>\n",
              "      <td>sedan</td>\n",
              "      <td>197</td>\n",
              "      <td>3.0</td>\n",
              "      <td>Petrol</td>\n",
              "      <td>yes</td>\n",
              "      <td>2001</td>\n",
              "      <td>530</td>\n",
              "      <td>oujda</td>\n",
              "      <td>93700</td>\n",
              "      <td>Manual</td>\n",
              "      <td>First</td>\n",
              "    </tr>\n",
              "    <tr>\n",
              "      <th>3</th>\n",
              "      <td>BMW</td>\n",
              "      <td>525900.0</td>\n",
              "      <td>crossover</td>\n",
              "      <td>178</td>\n",
              "      <td>4.0</td>\n",
              "      <td>Diesel</td>\n",
              "      <td>yes</td>\n",
              "      <td>2012</td>\n",
              "      <td>X5</td>\n",
              "      <td>tanger</td>\n",
              "      <td>72465</td>\n",
              "      <td>Manual</td>\n",
              "      <td>First</td>\n",
              "    </tr>\n",
              "    <tr>\n",
              "      <th>4</th>\n",
              "      <td>Audi</td>\n",
              "      <td>400500.0</td>\n",
              "      <td>crossover</td>\n",
              "      <td>115</td>\n",
              "      <td>3.0</td>\n",
              "      <td>Diesel</td>\n",
              "      <td>yes</td>\n",
              "      <td>2010</td>\n",
              "      <td>Q7</td>\n",
              "      <td>sefrou</td>\n",
              "      <td>34000</td>\n",
              "      <td>Manual</td>\n",
              "      <td>First</td>\n",
              "    </tr>\n",
              "    <tr>\n",
              "      <th>...</th>\n",
              "      <td>...</td>\n",
              "      <td>...</td>\n",
              "      <td>...</td>\n",
              "      <td>...</td>\n",
              "      <td>...</td>\n",
              "      <td>...</td>\n",
              "      <td>...</td>\n",
              "      <td>...</td>\n",
              "      <td>...</td>\n",
              "      <td>...</td>\n",
              "      <td>...</td>\n",
              "      <td>...</td>\n",
              "      <td>...</td>\n",
              "    </tr>\n",
              "    <tr>\n",
              "      <th>3036</th>\n",
              "      <td>Audi</td>\n",
              "      <td>46300.0</td>\n",
              "      <td>sedan</td>\n",
              "      <td>340</td>\n",
              "      <td>2.4</td>\n",
              "      <td>Gas</td>\n",
              "      <td>yes</td>\n",
              "      <td>1998</td>\n",
              "      <td>A6</td>\n",
              "      <td>Casablanca</td>\n",
              "      <td>84000</td>\n",
              "      <td>Manual</td>\n",
              "      <td>First</td>\n",
              "    </tr>\n",
              "    <tr>\n",
              "      <th>3037</th>\n",
              "      <td>Volkswagen</td>\n",
              "      <td>132500.0</td>\n",
              "      <td>vagon</td>\n",
              "      <td>96</td>\n",
              "      <td>NaN</td>\n",
              "      <td>Petrol</td>\n",
              "      <td>yes</td>\n",
              "      <td>2010</td>\n",
              "      <td>Golf VI</td>\n",
              "      <td>Casablanca</td>\n",
              "      <td>99000</td>\n",
              "      <td>Automatic</td>\n",
              "      <td>Third</td>\n",
              "    </tr>\n",
              "    <tr>\n",
              "      <th>3038</th>\n",
              "      <td>Volkswagen</td>\n",
              "      <td>343410.0</td>\n",
              "      <td>van</td>\n",
              "      <td>0</td>\n",
              "      <td>2.0</td>\n",
              "      <td>Diesel</td>\n",
              "      <td>yes</td>\n",
              "      <td>2014</td>\n",
              "      <td>Touran</td>\n",
              "      <td>Casablanca</td>\n",
              "      <td>65148</td>\n",
              "      <td>Automatic</td>\n",
              "      <td>First</td>\n",
              "    </tr>\n",
              "    <tr>\n",
              "      <th>3039</th>\n",
              "      <td>Renault</td>\n",
              "      <td>36400.0</td>\n",
              "      <td>van</td>\n",
              "      <td>260</td>\n",
              "      <td>2.2</td>\n",
              "      <td>Diesel</td>\n",
              "      <td>no</td>\n",
              "      <td>2005</td>\n",
              "      <td>Espace</td>\n",
              "      <td>tanger</td>\n",
              "      <td>48394</td>\n",
              "      <td>Automatic</td>\n",
              "      <td>First</td>\n",
              "    </tr>\n",
              "    <tr>\n",
              "      <th>3040</th>\n",
              "      <td>Renault</td>\n",
              "      <td>46850.0</td>\n",
              "      <td>van</td>\n",
              "      <td>188</td>\n",
              "      <td>1.5</td>\n",
              "      <td>Diesel</td>\n",
              "      <td>yes</td>\n",
              "      <td>2004</td>\n",
              "      <td>Kangoo</td>\n",
              "      <td>mekness</td>\n",
              "      <td>90000</td>\n",
              "      <td>Automatic</td>\n",
              "      <td>First</td>\n",
              "    </tr>\n",
              "  </tbody>\n",
              "</table>\n",
              "<p>3041 rows × 13 columns</p>\n",
              "</div>\n",
              "    <div class=\"colab-df-buttons\">\n",
              "\n",
              "  <div class=\"colab-df-container\">\n",
              "    <button class=\"colab-df-convert\" onclick=\"convertToInteractive('df-6123d1fc-1e63-41b5-8e19-3eec1edd9e1b')\"\n",
              "            title=\"Convert this dataframe to an interactive table.\"\n",
              "            style=\"display:none;\">\n",
              "\n",
              "  <svg xmlns=\"http://www.w3.org/2000/svg\" height=\"24px\" viewBox=\"0 -960 960 960\">\n",
              "    <path d=\"M120-120v-720h720v720H120Zm60-500h600v-160H180v160Zm220 220h160v-160H400v160Zm0 220h160v-160H400v160ZM180-400h160v-160H180v160Zm440 0h160v-160H620v160ZM180-180h160v-160H180v160Zm440 0h160v-160H620v160Z\"/>\n",
              "  </svg>\n",
              "    </button>\n",
              "\n",
              "  <style>\n",
              "    .colab-df-container {\n",
              "      display:flex;\n",
              "      gap: 12px;\n",
              "    }\n",
              "\n",
              "    .colab-df-convert {\n",
              "      background-color: #E8F0FE;\n",
              "      border: none;\n",
              "      border-radius: 50%;\n",
              "      cursor: pointer;\n",
              "      display: none;\n",
              "      fill: #1967D2;\n",
              "      height: 32px;\n",
              "      padding: 0 0 0 0;\n",
              "      width: 32px;\n",
              "    }\n",
              "\n",
              "    .colab-df-convert:hover {\n",
              "      background-color: #E2EBFA;\n",
              "      box-shadow: 0px 1px 2px rgba(60, 64, 67, 0.3), 0px 1px 3px 1px rgba(60, 64, 67, 0.15);\n",
              "      fill: #174EA6;\n",
              "    }\n",
              "\n",
              "    .colab-df-buttons div {\n",
              "      margin-bottom: 4px;\n",
              "    }\n",
              "\n",
              "    [theme=dark] .colab-df-convert {\n",
              "      background-color: #3B4455;\n",
              "      fill: #D2E3FC;\n",
              "    }\n",
              "\n",
              "    [theme=dark] .colab-df-convert:hover {\n",
              "      background-color: #434B5C;\n",
              "      box-shadow: 0px 1px 3px 1px rgba(0, 0, 0, 0.15);\n",
              "      filter: drop-shadow(0px 1px 2px rgba(0, 0, 0, 0.3));\n",
              "      fill: #FFFFFF;\n",
              "    }\n",
              "  </style>\n",
              "\n",
              "    <script>\n",
              "      const buttonEl =\n",
              "        document.querySelector('#df-6123d1fc-1e63-41b5-8e19-3eec1edd9e1b button.colab-df-convert');\n",
              "      buttonEl.style.display =\n",
              "        google.colab.kernel.accessAllowed ? 'block' : 'none';\n",
              "\n",
              "      async function convertToInteractive(key) {\n",
              "        const element = document.querySelector('#df-6123d1fc-1e63-41b5-8e19-3eec1edd9e1b');\n",
              "        const dataTable =\n",
              "          await google.colab.kernel.invokeFunction('convertToInteractive',\n",
              "                                                    [key], {});\n",
              "        if (!dataTable) return;\n",
              "\n",
              "        const docLinkHtml = 'Like what you see? Visit the ' +\n",
              "          '<a target=\"_blank\" href=https://colab.research.google.com/notebooks/data_table.ipynb>data table notebook</a>'\n",
              "          + ' to learn more about interactive tables.';\n",
              "        element.innerHTML = '';\n",
              "        dataTable['output_type'] = 'display_data';\n",
              "        await google.colab.output.renderOutput(dataTable, element);\n",
              "        const docLink = document.createElement('div');\n",
              "        docLink.innerHTML = docLinkHtml;\n",
              "        element.appendChild(docLink);\n",
              "      }\n",
              "    </script>\n",
              "  </div>\n",
              "\n",
              "\n",
              "<div id=\"df-4fd14357-2bfc-42a9-bc60-0956e8cb9713\">\n",
              "  <button class=\"colab-df-quickchart\" onclick=\"quickchart('df-4fd14357-2bfc-42a9-bc60-0956e8cb9713')\"\n",
              "            title=\"Suggest charts\"\n",
              "            style=\"display:none;\">\n",
              "\n",
              "<svg xmlns=\"http://www.w3.org/2000/svg\" height=\"24px\"viewBox=\"0 0 24 24\"\n",
              "     width=\"24px\">\n",
              "    <g>\n",
              "        <path d=\"M19 3H5c-1.1 0-2 .9-2 2v14c0 1.1.9 2 2 2h14c1.1 0 2-.9 2-2V5c0-1.1-.9-2-2-2zM9 17H7v-7h2v7zm4 0h-2V7h2v10zm4 0h-2v-4h2v4z\"/>\n",
              "    </g>\n",
              "</svg>\n",
              "  </button>\n",
              "\n",
              "<style>\n",
              "  .colab-df-quickchart {\n",
              "      --bg-color: #E8F0FE;\n",
              "      --fill-color: #1967D2;\n",
              "      --hover-bg-color: #E2EBFA;\n",
              "      --hover-fill-color: #174EA6;\n",
              "      --disabled-fill-color: #AAA;\n",
              "      --disabled-bg-color: #DDD;\n",
              "  }\n",
              "\n",
              "  [theme=dark] .colab-df-quickchart {\n",
              "      --bg-color: #3B4455;\n",
              "      --fill-color: #D2E3FC;\n",
              "      --hover-bg-color: #434B5C;\n",
              "      --hover-fill-color: #FFFFFF;\n",
              "      --disabled-bg-color: #3B4455;\n",
              "      --disabled-fill-color: #666;\n",
              "  }\n",
              "\n",
              "  .colab-df-quickchart {\n",
              "    background-color: var(--bg-color);\n",
              "    border: none;\n",
              "    border-radius: 50%;\n",
              "    cursor: pointer;\n",
              "    display: none;\n",
              "    fill: var(--fill-color);\n",
              "    height: 32px;\n",
              "    padding: 0;\n",
              "    width: 32px;\n",
              "  }\n",
              "\n",
              "  .colab-df-quickchart:hover {\n",
              "    background-color: var(--hover-bg-color);\n",
              "    box-shadow: 0 1px 2px rgba(60, 64, 67, 0.3), 0 1px 3px 1px rgba(60, 64, 67, 0.15);\n",
              "    fill: var(--button-hover-fill-color);\n",
              "  }\n",
              "\n",
              "  .colab-df-quickchart-complete:disabled,\n",
              "  .colab-df-quickchart-complete:disabled:hover {\n",
              "    background-color: var(--disabled-bg-color);\n",
              "    fill: var(--disabled-fill-color);\n",
              "    box-shadow: none;\n",
              "  }\n",
              "\n",
              "  .colab-df-spinner {\n",
              "    border: 2px solid var(--fill-color);\n",
              "    border-color: transparent;\n",
              "    border-bottom-color: var(--fill-color);\n",
              "    animation:\n",
              "      spin 1s steps(1) infinite;\n",
              "  }\n",
              "\n",
              "  @keyframes spin {\n",
              "    0% {\n",
              "      border-color: transparent;\n",
              "      border-bottom-color: var(--fill-color);\n",
              "      border-left-color: var(--fill-color);\n",
              "    }\n",
              "    20% {\n",
              "      border-color: transparent;\n",
              "      border-left-color: var(--fill-color);\n",
              "      border-top-color: var(--fill-color);\n",
              "    }\n",
              "    30% {\n",
              "      border-color: transparent;\n",
              "      border-left-color: var(--fill-color);\n",
              "      border-top-color: var(--fill-color);\n",
              "      border-right-color: var(--fill-color);\n",
              "    }\n",
              "    40% {\n",
              "      border-color: transparent;\n",
              "      border-right-color: var(--fill-color);\n",
              "      border-top-color: var(--fill-color);\n",
              "    }\n",
              "    60% {\n",
              "      border-color: transparent;\n",
              "      border-right-color: var(--fill-color);\n",
              "    }\n",
              "    80% {\n",
              "      border-color: transparent;\n",
              "      border-right-color: var(--fill-color);\n",
              "      border-bottom-color: var(--fill-color);\n",
              "    }\n",
              "    90% {\n",
              "      border-color: transparent;\n",
              "      border-bottom-color: var(--fill-color);\n",
              "    }\n",
              "  }\n",
              "</style>\n",
              "\n",
              "  <script>\n",
              "    async function quickchart(key) {\n",
              "      const quickchartButtonEl =\n",
              "        document.querySelector('#' + key + ' button');\n",
              "      quickchartButtonEl.disabled = true;  // To prevent multiple clicks.\n",
              "      quickchartButtonEl.classList.add('colab-df-spinner');\n",
              "      try {\n",
              "        const charts = await google.colab.kernel.invokeFunction(\n",
              "            'suggestCharts', [key], {});\n",
              "      } catch (error) {\n",
              "        console.error('Error during call to suggestCharts:', error);\n",
              "      }\n",
              "      quickchartButtonEl.classList.remove('colab-df-spinner');\n",
              "      quickchartButtonEl.classList.add('colab-df-quickchart-complete');\n",
              "    }\n",
              "    (() => {\n",
              "      let quickchartButtonEl =\n",
              "        document.querySelector('#df-4fd14357-2bfc-42a9-bc60-0956e8cb9713 button');\n",
              "      quickchartButtonEl.style.display =\n",
              "        google.colab.kernel.accessAllowed ? 'block' : 'none';\n",
              "    })();\n",
              "  </script>\n",
              "</div>\n",
              "    </div>\n",
              "  </div>\n"
            ]
          },
          "metadata": {},
          "execution_count": 50
        }
      ]
    },
    {
      "cell_type": "code",
      "source": [
        "# Displaying the number of null values in each column\n",
        "dataset.isna().sum()"
      ],
      "metadata": {
        "colab": {
          "base_uri": "https://localhost:8080/"
        },
        "id": "5mIolIyK05W3",
        "outputId": "be30eeca-46c7-40a4-b8df-7c1b3d61f905"
      },
      "execution_count": 51,
      "outputs": [
        {
          "output_type": "execute_result",
          "data": {
            "text/plain": [
              "Manufacturer          0\n",
              "Price               128\n",
              "Body Style            0\n",
              "Fuel Efficiency       0\n",
              "Engine Volume       109\n",
              "Powertrain            0\n",
              "License Status        0\n",
              "Manufacture Year      0\n",
              "Variant               0\n",
              "Location              0\n",
              "Distance Covered      0\n",
              "Gearbox               0\n",
              "Owner_Type            0\n",
              "dtype: int64"
            ]
          },
          "metadata": {},
          "execution_count": 51
        }
      ]
    },
    {
      "cell_type": "code",
      "source": [
        "# Displaying the unique values of each column\n",
        "for col in dataset:\n",
        "    print(f\"{col} [{len(dataset[col].unique())}] : {dataset[col].unique()}\\n\")"
      ],
      "metadata": {
        "colab": {
          "base_uri": "https://localhost:8080/"
        },
        "id": "2CP3H40-KeNc",
        "outputId": "37f5316d-bc6c-4319-e0e9-91fd08a1b9e9"
      },
      "execution_count": 52,
      "outputs": [
        {
          "output_type": "stream",
          "name": "stdout",
          "text": [
            "Manufacturer [7] : ['BMW' 'Mercedes-Benz' 'Audi' 'Renault' 'Volkswagen' 'Toyota' 'Mitsubishi']\n",
            "\n",
            "Price [1046] : [ 39700. 147500.  90300. ... 132500. 343410.  46850.]\n",
            "\n",
            "Body Style [6] : ['sedan' 'crossover' 'vagon' 'van' 'other' 'hatch']\n",
            "\n",
            "Fuel Efficiency [392] : [231 317 197 178 115 199 169 287 162 245  38  93 248 140  22 221 219 159\n",
            " 200 230  73 135 157 280  34 151 193   1 220 160 195  87 147 240 388 198\n",
            " 265 214  30 255 259  52 216 180 156 145 183  57 326 105  56 250  35  47\n",
            "   4  74 190 210 213 100 127  24 243 290 800 237   0  65 432  16  76 141\n",
            " 118 171 164  85 146 120 143 116 170  69 175 390  78 223 111 109 102  66\n",
            "  90  80 144  83 150 186  95 138 153 110  21 300 165 148 212  23  60 123\n",
            " 124 320 172 215 139 400  45 547 270 285 122 264  97 440 128 274 470 225\n",
            " 201 107  44 380 207 152 112  92 217 310  50 101  15 163 311 121  64 136\n",
            "  43 460 257  86 181 298 423  41 176 119 330  79  29 313   3 168  59  51\n",
            " 232 202 307 125 134  40 161 267 204  61  84  99 366 246 167 810 142  89\n",
            "  26 203 425 340 185 130  49 350 206 448   5  42 308   2  88 360 242  39\n",
            " 406 327 177 117 239 166 278 211 155 132 299 113 226 154 235  33  58  72\n",
            "  81  98 236 253 174 126 103 224  10 256 480 650 273 338 342 550  25 173\n",
            "  71 271 258 244 260 535  67 319 523 179  68  14 297 106 355  62   7  75\n",
            " 370 272 184 114 108 187  48 315 289  17  70 158   8 268 277 374 335 129\n",
            " 189  46 316  91 275 420 191  55 247 294 104  12 304 188 385  54  77 238\n",
            "  53   6  96 279 252   9 261  82  20 266 196 205 286 262 131 505 149 305\n",
            " 228 263 525 137 395 194  94 435 208  11  37 293 192  63 409 218 450 386\n",
            "  28 375 284 404 371 410 303 254 281 419 337 288 368 322 488 295  36 234\n",
            " 339 249 296 229 430 345 850 302 222 630 133 282 182 433 314  19 384 396\n",
            " 367 227 209 354 575 269 365 356  27  18 580 405  32 341 312 283 402 427\n",
            " 352 357 233 413  31 980 520 328 241 457 472 504 381 276]\n",
            "\n",
            "Engine Volume [70] : [ 2.5   5.    3.    4.    1.9   2.     nan  1.8   3.6   1.5   2.2   1.6\n",
            "  1.2   1.    4.3   2.3   3.5   4.8   3.2   5.5   2.7   1.4   2.4   4.5\n",
            "  4.2   1.33 55.    1.7   4.6  22.    4.4   6.    9.    6.3   2.8   2.6\n",
            "  1.3   3.8   4.7   2.1   2.9  15.    6.2   5.7   2.99  2.15 75.    5.46\n",
            " 20.    1.1   3.7   7.2   1.79 19.   99.99 90.    5.2   4.39  0.6   2.98\n",
            "  1.39  4.66  4.67 28.    2.14 30.    2.57  1.59  6.5   2.17]\n",
            "\n",
            "Powertrain [4] : ['Petrol' 'Diesel' 'Other' 'Gas']\n",
            "\n",
            "License Status [2] : ['yes' 'no']\n",
            "\n",
            "Manufacture Year [39] : [1990 2001 2012 2010 2003 2008 2004 2011 2006 2015 2005 2002 2007 2009\n",
            " 1993 2013 2000 1986 1985 1995 2016 1999 1987 2014 1992 1991 1996 1983\n",
            " 1989 1998 1980 1994 1997 1984 1988 1982 1978 1979 1969]\n",
            "\n",
            "Variant [287] : ['525' 'S 500' '530' 'X5' 'Q7' 'Laguna' 'Caddy' 'T5 (Transporter)'\n",
            " 'T5 (Transporter) ' 'A5' 'Passat B7' 'Passat B6' 'S 350' 'E-Class' '735'\n",
            " 'ML 400' 'FJ Cruiser' 'Pajero Sport' '520' 'C-Class' 'Logan' 'Vito'\n",
            " 'Trafic' 'Passat B5' 'Bora' 'Polo' 'IQ' 'Touran' 'A4' 'S 430' '100'\n",
            " 'Master' '230' 'Sprinter 318' 'Passat B4' 'Venza' 'Kangoo' 'Touareg'\n",
            " 'Land Cruiser Prado' 'A6' 'Rav 4' 'Golf VI' '320' 'A8' 'Jetta'\n",
            " 'A6 Allroad' '630' 'Sienna' 'Camry' '330' 'Golf VII' 'Outlander' 'GLS 63'\n",
            " 'GL 450' 'Aygo' 'Lupo' '325' 'Outlander XL' 'Auris' 'T4 (Transporter)'\n",
            " '523' 'Koleos' 'Pajero Wagon' 'Corolla' 'Lancer' 'Land Cruiser 200'\n",
            " 'Highlander' 'B 180' 'Passat B2' 'Grandis' '323' 'Avensis' 'Passat CC'\n",
            " 'S8' 'X6' 'ML 350' 'Yaris' 'Lancer X' 'Symbol' 'Passat B3' 'S 55' 'A 170'\n",
            " 'Megane' 'Eos' 'S 320' '540' 'V 250' '318' '730' 'T6 (Transporter)'\n",
            " 'Phaeton' 'Multivan' 'A 180' 'Grand Scenic' 'Golf II' 'Golf Variant' 'Q5'\n",
            " 'GLE-Class' 'CL 180' 'Colt' '535' 'Space Star' 'GL 350' 'Golf IV' 'M5'\n",
            " 'Scenic' 'Sharan' 'S 400' 'Pajero' 'CLS 350' '200' '750' 'New Beetle'\n",
            " 'A 140' 'A4 Allroad' 'Golf III' '528' 'Golf V' 'Alpina' 'CLC 200'\n",
            " 'Tacoma' 'Viano' 'Z4' 'Hilux' 'Sprinter 313' '740' 'Golf Plus' 'X1'\n",
            " 'Espace' '80' 'X3' 'S 550' 'CLA 200' 'Lancer Evolution' '760' 'G 500'\n",
            " 'Galant' '324' 'ML 63 AMG' 'Carina' 'Land Cruiser 100' '210' 'G 350' 'A3'\n",
            " 'Space Wagon' 'Sprinter 212' 'Carisma' 'Land Cruiser 80' '745'\n",
            " 'Sprinter 213' '250' 'CL 500' '550' 'X5 M' 'GLS 350' '316' '25' 'Up'\n",
            " 'Cross Touran' 'X6 M' 'Fluence' 'Sprinter 312' '90'\n",
            " 'B-Class Electric Drive' 'Sprinter 211' 'CLK 320' 'S 600' 'GL 320'\n",
            " 'CLK 200' 'Sprinter 316' 'TT' 'Modus' 'Eclipse' 'Prius' 'Sandero'\n",
            " 'Tiguan' 'Vento' 'GL 500' 'G 63 AMG' '190' 'R 320' 'Dokker' 'CL 550'\n",
            " '4Runner' 'Celica' 'T6 (Transporter) ' 'Lancer X Sportback' 'ML 550'\n",
            " '328' '118' '524' 'Sprinter 208' 'L 200' 'S 140' '19' '335' 'LT'\n",
            " 'GLK 220' 'T3 (Transporter)' 'A7' 'SLK 200' 'Land Cruiser 105' 'GLS 500'\n",
            " '6 Series Gran Coupe' 'Tundra' 'Duster' '5 Series' 'GLC-Class' 'G 55 AMG'\n",
            " 'G 320' 'S5' 'ML 320' 'Scion' 'Passat B8' 'I3' 'CLS 63 AMG' '300'\n",
            " 'CLA-Class' 'ML 270' 'Scirocco' 'Hiace' 'MB' 'ASX' 'SLK 350' '640'\n",
            " 'CLS 500' 'CL 55 AMG' 'R8' 'ML 500' 'A 150' 'Sprinter 319' 'Mark II'\n",
            " 'GLS 400' 'Smart' 'S 63 AMG' 'ML 430' 'Vista' 'Clio' '1 Series'\n",
            " 'Golf GTI' 'CL 63 AMG' 'S 250' 'Matrix' 'T4 (Transporter) ' '545'\n",
            " 'Captur' 'S 280' 'Beetle' 'T2 (Transporter)' 'S-Guard' 'Fortuner'\n",
            " 'Avalon' '5 Series GT' 'S4' 'A1' 'Sequoia' 'B 170' 'GL 550' '116'\n",
            " 'Pointer' 'Lite Ace' 'Z3' 'Caravelle' '4 Series Gran Coupe' 'GLK 300'\n",
            " '220' 'Q3' 'Amarok' 'ML 250' '11' '645' 'A 160' 'Previa' '428' 'B 200'\n",
            " 'CLK 230' 'CLK 240' 'Vaneo' 'Pajero Pinin' 'Corolla Verso' 'SL 55 AMG'\n",
            " 'Sprinter 315' 'Sandero StepWay' 'CLK 280' 'S 65 AMG' 'Sprinter 210'\n",
            " '728']\n",
            "\n",
            "Location [11] : ['marrakech' 'mekness' 'oujda' 'tanger' 'sefrou' 'hosseima' 'tetouan'\n",
            " 'rabat' 'Casablanca' 'agadir' 'dakhla']\n",
            "\n",
            "Distance Covered [1694] : [70704 65650 93700 ... 78600 65148 48394]\n",
            "\n",
            "Gearbox [2] : ['Manual' 'Automatic']\n",
            "\n",
            "Owner_Type [4] : ['First' 'Second' 'Third' 'Fourth & Above']\n",
            "\n"
          ]
        }
      ]
    },
    {
      "cell_type": "markdown",
      "source": [
        "# Data Processing"
      ],
      "metadata": {
        "id": "we7ohcwtGzAc"
      }
    },
    {
      "cell_type": "markdown",
      "source": [
        "### Data pre-processing"
      ],
      "metadata": {
        "id": "MkoOcAdIcjZC"
      }
    },
    {
      "cell_type": "code",
      "source": [
        "def pre_processing(df, removeNulls: bool = False):\n",
        "\n",
        "  # One-hot encoding the license status column (It contains only 2 unique values : YES and NO)\n",
        "  df.replace({\"License Status\": {\"no\": 0, \"yes\": 1}}, inplace=True)\n",
        "\n",
        "  # One-hot encoding the gearbox column (It contains only 2 unique values : MANUAL and AUTOMATIC)\n",
        "  df.replace({\"Gearbox\": {\"Manual\": 0, \"Automatic\": 1}}, inplace=True)\n",
        "\n",
        "  # Label encoding the Manufacturer column\n",
        "  manufacturer_encoder = LabelEncoder()\n",
        "  df['Manufacturer'] = manufacturer_encoder.fit_transform(df['Manufacturer'])\n",
        "\n",
        "  # Label encoding the Body Style column\n",
        "  body_encoder = LabelEncoder()\n",
        "  df['Body Style'] = body_encoder.fit_transform(df['Body Style'])\n",
        "\n",
        "  # Label encoding the Powertrain column\n",
        "  powertrain_encoder = LabelEncoder()\n",
        "  df['Powertrain'] = powertrain_encoder.fit_transform(df['Powertrain'])\n",
        "\n",
        "  # Label encoding the Variant column\n",
        "  variant_encoder = LabelEncoder()\n",
        "  df['Variant'] = variant_encoder.fit_transform(df['Variant'])\n",
        "\n",
        "  # Label encoding the Location column\n",
        "  location_encoder = LabelEncoder()\n",
        "  df['Location'] = location_encoder.fit_transform(df['Location'])\n",
        "\n",
        "  # Label encoding the Owner_Type column\n",
        "  owner_encoder = LabelEncoder()\n",
        "  df['Owner_Type'] = owner_encoder.fit_transform(df['Owner_Type'])\n",
        "\n",
        "  if removeNulls:\n",
        "    df = df.dropna()\n",
        "\n",
        "  return df\n",
        "\n",
        "dataset = pre_processing(dataset, True)"
      ],
      "metadata": {
        "id": "ECJHYrrE6FKF"
      },
      "execution_count": 53,
      "outputs": []
    },
    {
      "cell_type": "markdown",
      "source": [
        "### Data Correlation"
      ],
      "metadata": {
        "id": "W4pZjsIRWEVI"
      }
    },
    {
      "cell_type": "code",
      "source": [
        "import seaborn as sns\n",
        "corr = dataset.corr()\n",
        "\n",
        "#Displaying the correlation between the price column and other columns\n",
        "corr.style.background_gradient(cmap='coolwarm').set_precision(3)"
      ],
      "metadata": {
        "colab": {
          "base_uri": "https://localhost:8080/",
          "height": 492
        },
        "id": "kD8v2SdPdPLA",
        "outputId": "6e5a4081-f47f-4639-deec-6cf3d6c2aeb9"
      },
      "execution_count": 54,
      "outputs": [
        {
          "output_type": "stream",
          "name": "stderr",
          "text": [
            "<ipython-input-54-0d817f5ce9fd>:5: FutureWarning: this method is deprecated in favour of `Styler.format(precision=..)`\n",
            "  corr.style.background_gradient(cmap='coolwarm').set_precision(3)\n"
          ]
        },
        {
          "output_type": "execute_result",
          "data": {
            "text/plain": [
              "<pandas.io.formats.style.Styler at 0x7f4b103c3310>"
            ],
            "text/html": [
              "<style type=\"text/css\">\n",
              "#T_1699c_row0_col0, #T_1699c_row1_col1, #T_1699c_row2_col2, #T_1699c_row3_col3, #T_1699c_row4_col4, #T_1699c_row5_col5, #T_1699c_row6_col6, #T_1699c_row7_col7, #T_1699c_row8_col8, #T_1699c_row9_col9, #T_1699c_row10_col10, #T_1699c_row11_col11, #T_1699c_row12_col12 {\n",
              "  background-color: #b40426;\n",
              "  color: #f1f1f1;\n",
              "}\n",
              "#T_1699c_row0_col1 {\n",
              "  background-color: #80a3fa;\n",
              "  color: #f1f1f1;\n",
              "}\n",
              "#T_1699c_row0_col2, #T_1699c_row12_col1 {\n",
              "  background-color: #9dbdff;\n",
              "  color: #000000;\n",
              "}\n",
              "#T_1699c_row0_col3, #T_1699c_row1_col6 {\n",
              "  background-color: #aac7fd;\n",
              "  color: #000000;\n",
              "}\n",
              "#T_1699c_row0_col4, #T_1699c_row1_col0, #T_1699c_row1_col2, #T_1699c_row1_col12, #T_1699c_row2_col4, #T_1699c_row2_col5, #T_1699c_row3_col1, #T_1699c_row3_col6, #T_1699c_row3_col7, #T_1699c_row5_col8, #T_1699c_row6_col10, #T_1699c_row7_col3, #T_1699c_row9_col11, #T_1699c_row9_col12, #T_1699c_row11_col9, #T_1699c_row12_col9 {\n",
              "  background-color: #3b4cc0;\n",
              "  color: #f1f1f1;\n",
              "}\n",
              "#T_1699c_row0_col5, #T_1699c_row7_col5 {\n",
              "  background-color: #688aef;\n",
              "  color: #f1f1f1;\n",
              "}\n",
              "#T_1699c_row0_col6, #T_1699c_row2_col7, #T_1699c_row6_col5 {\n",
              "  background-color: #9bbcff;\n",
              "  color: #000000;\n",
              "}\n",
              "#T_1699c_row0_col7 {\n",
              "  background-color: #d5dbe5;\n",
              "  color: #000000;\n",
              "}\n",
              "#T_1699c_row0_col8, #T_1699c_row8_col0 {\n",
              "  background-color: #cad8ef;\n",
              "  color: #000000;\n",
              "}\n",
              "#T_1699c_row0_col9, #T_1699c_row0_col10, #T_1699c_row2_col11, #T_1699c_row3_col11, #T_1699c_row6_col12, #T_1699c_row8_col11 {\n",
              "  background-color: #4257c9;\n",
              "  color: #f1f1f1;\n",
              "}\n",
              "#T_1699c_row0_col11, #T_1699c_row2_col8, #T_1699c_row2_col12, #T_1699c_row7_col4 {\n",
              "  background-color: #455cce;\n",
              "  color: #f1f1f1;\n",
              "}\n",
              "#T_1699c_row0_col12, #T_1699c_row3_col8, #T_1699c_row5_col11, #T_1699c_row6_col9, #T_1699c_row8_col5, #T_1699c_row11_col12, #T_1699c_row12_col11 {\n",
              "  background-color: #485fd1;\n",
              "  color: #f1f1f1;\n",
              "}\n",
              "#T_1699c_row1_col3, #T_1699c_row10_col0 {\n",
              "  background-color: #5d7ce6;\n",
              "  color: #f1f1f1;\n",
              "}\n",
              "#T_1699c_row1_col4, #T_1699c_row9_col8 {\n",
              "  background-color: #6180e9;\n",
              "  color: #f1f1f1;\n",
              "}\n",
              "#T_1699c_row1_col5 {\n",
              "  background-color: #7ea1fa;\n",
              "  color: #f1f1f1;\n",
              "}\n",
              "#T_1699c_row1_col7 {\n",
              "  background-color: #f7ad90;\n",
              "  color: #000000;\n",
              "}\n",
              "#T_1699c_row1_col8, #T_1699c_row12_col2 {\n",
              "  background-color: #89acfd;\n",
              "  color: #000000;\n",
              "}\n",
              "#T_1699c_row1_col9, #T_1699c_row1_col10, #T_1699c_row3_col0, #T_1699c_row6_col4 {\n",
              "  background-color: #4961d2;\n",
              "  color: #f1f1f1;\n",
              "}\n",
              "#T_1699c_row1_col11, #T_1699c_row8_col10, #T_1699c_row10_col11 {\n",
              "  background-color: #445acc;\n",
              "  color: #f1f1f1;\n",
              "}\n",
              "#T_1699c_row2_col0 {\n",
              "  background-color: #7b9ff9;\n",
              "  color: #f1f1f1;\n",
              "}\n",
              "#T_1699c_row2_col1, #T_1699c_row12_col10 {\n",
              "  background-color: #5a78e4;\n",
              "  color: #f1f1f1;\n",
              "}\n",
              "#T_1699c_row2_col3 {\n",
              "  background-color: #ebd3c6;\n",
              "  color: #000000;\n",
              "}\n",
              "#T_1699c_row2_col6 {\n",
              "  background-color: #5875e1;\n",
              "  color: #f1f1f1;\n",
              "}\n",
              "#T_1699c_row2_col9, #T_1699c_row3_col9, #T_1699c_row5_col9 {\n",
              "  background-color: #4055c8;\n",
              "  color: #f1f1f1;\n",
              "}\n",
              "#T_1699c_row2_col10, #T_1699c_row4_col9, #T_1699c_row4_col10, #T_1699c_row7_col9, #T_1699c_row10_col4 {\n",
              "  background-color: #4b64d5;\n",
              "  color: #f1f1f1;\n",
              "}\n",
              "#T_1699c_row3_col2, #T_1699c_row6_col1 {\n",
              "  background-color: #cfdaea;\n",
              "  color: #000000;\n",
              "}\n",
              "#T_1699c_row3_col4 {\n",
              "  background-color: #4e68d8;\n",
              "  color: #f1f1f1;\n",
              "}\n",
              "#T_1699c_row3_col5, #T_1699c_row5_col12, #T_1699c_row7_col12 {\n",
              "  background-color: #3c4ec2;\n",
              "  color: #f1f1f1;\n",
              "}\n",
              "#T_1699c_row3_col10 {\n",
              "  background-color: #4f69d9;\n",
              "  color: #f1f1f1;\n",
              "}\n",
              "#T_1699c_row3_col12, #T_1699c_row5_col10, #T_1699c_row6_col11, #T_1699c_row7_col10 {\n",
              "  background-color: #465ecf;\n",
              "  color: #f1f1f1;\n",
              "}\n",
              "#T_1699c_row4_col0 {\n",
              "  background-color: #5673e0;\n",
              "  color: #f1f1f1;\n",
              "}\n",
              "#T_1699c_row4_col1, #T_1699c_row5_col7 {\n",
              "  background-color: #b7cff9;\n",
              "  color: #000000;\n",
              "}\n",
              "#T_1699c_row4_col2 {\n",
              "  background-color: #7a9df8;\n",
              "  color: #f1f1f1;\n",
              "}\n",
              "#T_1699c_row4_col3, #T_1699c_row8_col1, #T_1699c_row12_col3 {\n",
              "  background-color: #c0d4f5;\n",
              "  color: #000000;\n",
              "}\n",
              "#T_1699c_row4_col5 {\n",
              "  background-color: #81a4fb;\n",
              "  color: #f1f1f1;\n",
              "}\n",
              "#T_1699c_row4_col6, #T_1699c_row6_col2 {\n",
              "  background-color: #7093f3;\n",
              "  color: #f1f1f1;\n",
              "}\n",
              "#T_1699c_row4_col7, #T_1699c_row9_col3, #T_1699c_row10_col7 {\n",
              "  background-color: #bbd1f8;\n",
              "  color: #000000;\n",
              "}\n",
              "#T_1699c_row4_col8, #T_1699c_row9_col5, #T_1699c_row10_col5, #T_1699c_row12_col6 {\n",
              "  background-color: #6f92f3;\n",
              "  color: #f1f1f1;\n",
              "}\n",
              "#T_1699c_row4_col11 {\n",
              "  background-color: #3d50c3;\n",
              "  color: #f1f1f1;\n",
              "}\n",
              "#T_1699c_row4_col12, #T_1699c_row10_col9 {\n",
              "  background-color: #4c66d6;\n",
              "  color: #f1f1f1;\n",
              "}\n",
              "#T_1699c_row5_col0, #T_1699c_row7_col2 {\n",
              "  background-color: #5b7ae5;\n",
              "  color: #f1f1f1;\n",
              "}\n",
              "#T_1699c_row5_col1, #T_1699c_row7_col8 {\n",
              "  background-color: #afcafc;\n",
              "  color: #000000;\n",
              "}\n",
              "#T_1699c_row5_col2, #T_1699c_row9_col10, #T_1699c_row12_col4 {\n",
              "  background-color: #536edd;\n",
              "  color: #f1f1f1;\n",
              "}\n",
              "#T_1699c_row5_col3 {\n",
              "  background-color: #94b6ff;\n",
              "  color: #000000;\n",
              "}\n",
              "#T_1699c_row5_col4 {\n",
              "  background-color: #5977e3;\n",
              "  color: #f1f1f1;\n",
              "}\n",
              "#T_1699c_row5_col6 {\n",
              "  background-color: #9abbff;\n",
              "  color: #000000;\n",
              "}\n",
              "#T_1699c_row6_col0 {\n",
              "  background-color: #90b2fe;\n",
              "  color: #000000;\n",
              "}\n",
              "#T_1699c_row6_col3 {\n",
              "  background-color: #93b5fe;\n",
              "  color: #000000;\n",
              "}\n",
              "#T_1699c_row6_col7 {\n",
              "  background-color: #e6d7cf;\n",
              "  color: #000000;\n",
              "}\n",
              "#T_1699c_row6_col8 {\n",
              "  background-color: #96b7ff;\n",
              "  color: #000000;\n",
              "}\n",
              "#T_1699c_row7_col0, #T_1699c_row10_col2 {\n",
              "  background-color: #8badfd;\n",
              "  color: #000000;\n",
              "}\n",
              "#T_1699c_row7_col1 {\n",
              "  background-color: #f7ba9f;\n",
              "  color: #000000;\n",
              "}\n",
              "#T_1699c_row7_col6 {\n",
              "  background-color: #b5cdfa;\n",
              "  color: #000000;\n",
              "}\n",
              "#T_1699c_row7_col11, #T_1699c_row8_col12, #T_1699c_row11_col4 {\n",
              "  background-color: #4358cb;\n",
              "  color: #f1f1f1;\n",
              "}\n",
              "#T_1699c_row8_col2 {\n",
              "  background-color: #6b8df0;\n",
              "  color: #f1f1f1;\n",
              "}\n",
              "#T_1699c_row8_col3, #T_1699c_row9_col1 {\n",
              "  background-color: #a9c6fd;\n",
              "  color: #000000;\n",
              "}\n",
              "#T_1699c_row8_col4 {\n",
              "  background-color: #5572df;\n",
              "  color: #f1f1f1;\n",
              "}\n",
              "#T_1699c_row8_col6 {\n",
              "  background-color: #a1c0ff;\n",
              "  color: #000000;\n",
              "}\n",
              "#T_1699c_row8_col7 {\n",
              "  background-color: #e8d6cc;\n",
              "  color: #000000;\n",
              "}\n",
              "#T_1699c_row8_col9 {\n",
              "  background-color: #3f53c6;\n",
              "  color: #f1f1f1;\n",
              "}\n",
              "#T_1699c_row9_col0, #T_1699c_row12_col8 {\n",
              "  background-color: #6384eb;\n",
              "  color: #f1f1f1;\n",
              "}\n",
              "#T_1699c_row9_col2 {\n",
              "  background-color: #85a8fc;\n",
              "  color: #f1f1f1;\n",
              "}\n",
              "#T_1699c_row9_col4 {\n",
              "  background-color: #516ddb;\n",
              "  color: #f1f1f1;\n",
              "}\n",
              "#T_1699c_row9_col6 {\n",
              "  background-color: #7597f6;\n",
              "  color: #f1f1f1;\n",
              "}\n",
              "#T_1699c_row9_col7 {\n",
              "  background-color: #c3d5f4;\n",
              "  color: #000000;\n",
              "}\n",
              "#T_1699c_row10_col1 {\n",
              "  background-color: #a3c2fe;\n",
              "  color: #000000;\n",
              "}\n",
              "#T_1699c_row10_col3 {\n",
              "  background-color: #c1d4f4;\n",
              "  color: #000000;\n",
              "}\n",
              "#T_1699c_row10_col6, #T_1699c_row11_col8 {\n",
              "  background-color: #6282ea;\n",
              "  color: #f1f1f1;\n",
              "}\n",
              "#T_1699c_row10_col8 {\n",
              "  background-color: #5f7fe8;\n",
              "  color: #f1f1f1;\n",
              "}\n",
              "#T_1699c_row10_col12 {\n",
              "  background-color: #5470de;\n",
              "  color: #f1f1f1;\n",
              "}\n",
              "#T_1699c_row11_col0 {\n",
              "  background-color: #6788ee;\n",
              "  color: #f1f1f1;\n",
              "}\n",
              "#T_1699c_row11_col1 {\n",
              "  background-color: #a5c3fe;\n",
              "  color: #000000;\n",
              "}\n",
              "#T_1699c_row11_col2 {\n",
              "  background-color: #88abfd;\n",
              "  color: #000000;\n",
              "}\n",
              "#T_1699c_row11_col3, #T_1699c_row11_col7 {\n",
              "  background-color: #bed2f6;\n",
              "  color: #000000;\n",
              "}\n",
              "#T_1699c_row11_col5 {\n",
              "  background-color: #7699f6;\n",
              "  color: #f1f1f1;\n",
              "}\n",
              "#T_1699c_row11_col6 {\n",
              "  background-color: #7396f5;\n",
              "  color: #f1f1f1;\n",
              "}\n",
              "#T_1699c_row11_col10 {\n",
              "  background-color: #4a63d3;\n",
              "  color: #f1f1f1;\n",
              "}\n",
              "#T_1699c_row12_col0, #T_1699c_row12_col5 {\n",
              "  background-color: #6a8bef;\n",
              "  color: #f1f1f1;\n",
              "}\n",
              "#T_1699c_row12_col7 {\n",
              "  background-color: #b9d0f9;\n",
              "  color: #000000;\n",
              "}\n",
              "</style>\n",
              "<table id=\"T_1699c\" class=\"dataframe\">\n",
              "  <thead>\n",
              "    <tr>\n",
              "      <th class=\"blank level0\" >&nbsp;</th>\n",
              "      <th id=\"T_1699c_level0_col0\" class=\"col_heading level0 col0\" >Manufacturer</th>\n",
              "      <th id=\"T_1699c_level0_col1\" class=\"col_heading level0 col1\" >Price</th>\n",
              "      <th id=\"T_1699c_level0_col2\" class=\"col_heading level0 col2\" >Body Style</th>\n",
              "      <th id=\"T_1699c_level0_col3\" class=\"col_heading level0 col3\" >Fuel Efficiency</th>\n",
              "      <th id=\"T_1699c_level0_col4\" class=\"col_heading level0 col4\" >Engine Volume</th>\n",
              "      <th id=\"T_1699c_level0_col5\" class=\"col_heading level0 col5\" >Powertrain</th>\n",
              "      <th id=\"T_1699c_level0_col6\" class=\"col_heading level0 col6\" >License Status</th>\n",
              "      <th id=\"T_1699c_level0_col7\" class=\"col_heading level0 col7\" >Manufacture Year</th>\n",
              "      <th id=\"T_1699c_level0_col8\" class=\"col_heading level0 col8\" >Variant</th>\n",
              "      <th id=\"T_1699c_level0_col9\" class=\"col_heading level0 col9\" >Location</th>\n",
              "      <th id=\"T_1699c_level0_col10\" class=\"col_heading level0 col10\" >Distance Covered</th>\n",
              "      <th id=\"T_1699c_level0_col11\" class=\"col_heading level0 col11\" >Gearbox</th>\n",
              "      <th id=\"T_1699c_level0_col12\" class=\"col_heading level0 col12\" >Owner_Type</th>\n",
              "    </tr>\n",
              "  </thead>\n",
              "  <tbody>\n",
              "    <tr>\n",
              "      <th id=\"T_1699c_level0_row0\" class=\"row_heading level0 row0\" >Manufacturer</th>\n",
              "      <td id=\"T_1699c_row0_col0\" class=\"data row0 col0\" >1.000</td>\n",
              "      <td id=\"T_1699c_row0_col1\" class=\"data row0 col1\" >-0.160</td>\n",
              "      <td id=\"T_1699c_row0_col2\" class=\"data row0 col2\" >0.072</td>\n",
              "      <td id=\"T_1699c_row0_col3\" class=\"data row0 col3\" >-0.103</td>\n",
              "      <td id=\"T_1699c_row0_col4\" class=\"data row0 col4\" >-0.054</td>\n",
              "      <td id=\"T_1699c_row0_col5\" class=\"data row0 col5\" >-0.037</td>\n",
              "      <td id=\"T_1699c_row0_col6\" class=\"data row0 col6\" >0.143</td>\n",
              "      <td id=\"T_1699c_row0_col7\" class=\"data row0 col7\" >0.123</td>\n",
              "      <td id=\"T_1699c_row0_col8\" class=\"data row0 col8\" >0.341</td>\n",
              "      <td id=\"T_1699c_row0_col9\" class=\"data row0 col9\" >-0.008</td>\n",
              "      <td id=\"T_1699c_row0_col10\" class=\"data row0 col10\" >-0.031</td>\n",
              "      <td id=\"T_1699c_row0_col11\" class=\"data row0 col11\" >0.005</td>\n",
              "      <td id=\"T_1699c_row0_col12\" class=\"data row0 col12\" >0.013</td>\n",
              "    </tr>\n",
              "    <tr>\n",
              "      <th id=\"T_1699c_level0_row1\" class=\"row_heading level0 row1\" >Price</th>\n",
              "      <td id=\"T_1699c_row1_col0\" class=\"data row1 col0\" >-0.160</td>\n",
              "      <td id=\"T_1699c_row1_col1\" class=\"data row1 col1\" >1.000</td>\n",
              "      <td id=\"T_1699c_row1_col2\" class=\"data row1 col2\" >-0.317</td>\n",
              "      <td id=\"T_1699c_row1_col3\" class=\"data row1 col3\" >-0.470</td>\n",
              "      <td id=\"T_1699c_row1_col4\" class=\"data row1 col4\" >0.076</td>\n",
              "      <td id=\"T_1699c_row1_col5\" class=\"data row1 col5\" >0.042</td>\n",
              "      <td id=\"T_1699c_row1_col6\" class=\"data row1 col6\" >0.196</td>\n",
              "      <td id=\"T_1699c_row1_col7\" class=\"data row1 col7\" >0.498</td>\n",
              "      <td id=\"T_1699c_row1_col8\" class=\"data row1 col8\" >0.121</td>\n",
              "      <td id=\"T_1699c_row1_col9\" class=\"data row1 col9\" >0.015</td>\n",
              "      <td id=\"T_1699c_row1_col10\" class=\"data row1 col10\" >-0.006</td>\n",
              "      <td id=\"T_1699c_row1_col11\" class=\"data row1 col11\" >-0.001</td>\n",
              "      <td id=\"T_1699c_row1_col12\" class=\"data row1 col12\" >-0.035</td>\n",
              "    </tr>\n",
              "    <tr>\n",
              "      <th id=\"T_1699c_level0_row2\" class=\"row_heading level0 row2\" >Body Style</th>\n",
              "      <td id=\"T_1699c_row2_col0\" class=\"data row2 col0\" >0.072</td>\n",
              "      <td id=\"T_1699c_row2_col1\" class=\"data row2 col1\" >-0.317</td>\n",
              "      <td id=\"T_1699c_row2_col2\" class=\"data row2 col2\" >1.000</td>\n",
              "      <td id=\"T_1699c_row2_col3\" class=\"data row2 col3\" >0.275</td>\n",
              "      <td id=\"T_1699c_row2_col4\" class=\"data row2 col4\" >-0.056</td>\n",
              "      <td id=\"T_1699c_row2_col5\" class=\"data row2 col5\" >-0.213</td>\n",
              "      <td id=\"T_1699c_row2_col6\" class=\"data row2 col6\" >-0.091</td>\n",
              "      <td id=\"T_1699c_row2_col7\" class=\"data row2 col7\" >-0.174</td>\n",
              "      <td id=\"T_1699c_row2_col8\" class=\"data row2 col8\" >-0.112</td>\n",
              "      <td id=\"T_1699c_row2_col9\" class=\"data row2 col9\" >-0.015</td>\n",
              "      <td id=\"T_1699c_row2_col10\" class=\"data row2 col10\" >0.004</td>\n",
              "      <td id=\"T_1699c_row2_col11\" class=\"data row2 col11\" >-0.007</td>\n",
              "      <td id=\"T_1699c_row2_col12\" class=\"data row2 col12\" >0.002</td>\n",
              "    </tr>\n",
              "    <tr>\n",
              "      <th id=\"T_1699c_level0_row3\" class=\"row_heading level0 row3\" >Fuel Efficiency</th>\n",
              "      <td id=\"T_1699c_row3_col0\" class=\"data row3 col0\" >-0.103</td>\n",
              "      <td id=\"T_1699c_row3_col1\" class=\"data row3 col1\" >-0.470</td>\n",
              "      <td id=\"T_1699c_row3_col2\" class=\"data row3 col2\" >0.275</td>\n",
              "      <td id=\"T_1699c_row3_col3\" class=\"data row3 col3\" >1.000</td>\n",
              "      <td id=\"T_1699c_row3_col4\" class=\"data row3 col4\" >0.011</td>\n",
              "      <td id=\"T_1699c_row3_col5\" class=\"data row3 col5\" >-0.206</td>\n",
              "      <td id=\"T_1699c_row3_col6\" class=\"data row3 col6\" >-0.209</td>\n",
              "      <td id=\"T_1699c_row3_col7\" class=\"data row3 col7\" >-0.653</td>\n",
              "      <td id=\"T_1699c_row3_col8\" class=\"data row3 col8\" >-0.104</td>\n",
              "      <td id=\"T_1699c_row3_col9\" class=\"data row3 col9\" >-0.014</td>\n",
              "      <td id=\"T_1699c_row3_col10\" class=\"data row3 col10\" >0.017</td>\n",
              "      <td id=\"T_1699c_row3_col11\" class=\"data row3 col11\" >-0.007</td>\n",
              "      <td id=\"T_1699c_row3_col12\" class=\"data row3 col12\" >0.009</td>\n",
              "    </tr>\n",
              "    <tr>\n",
              "      <th id=\"T_1699c_level0_row4\" class=\"row_heading level0 row4\" >Engine Volume</th>\n",
              "      <td id=\"T_1699c_row4_col0\" class=\"data row4 col0\" >-0.054</td>\n",
              "      <td id=\"T_1699c_row4_col1\" class=\"data row4 col1\" >0.076</td>\n",
              "      <td id=\"T_1699c_row4_col2\" class=\"data row4 col2\" >-0.056</td>\n",
              "      <td id=\"T_1699c_row4_col3\" class=\"data row4 col3\" >0.011</td>\n",
              "      <td id=\"T_1699c_row4_col4\" class=\"data row4 col4\" >1.000</td>\n",
              "      <td id=\"T_1699c_row4_col5\" class=\"data row4 col5\" >0.051</td>\n",
              "      <td id=\"T_1699c_row4_col6\" class=\"data row4 col6\" >-0.006</td>\n",
              "      <td id=\"T_1699c_row4_col7\" class=\"data row4 col7\" >-0.018</td>\n",
              "      <td id=\"T_1699c_row4_col8\" class=\"data row4 col8\" >0.035</td>\n",
              "      <td id=\"T_1699c_row4_col9\" class=\"data row4 col9\" >0.023</td>\n",
              "      <td id=\"T_1699c_row4_col10\" class=\"data row4 col10\" >0.004</td>\n",
              "      <td id=\"T_1699c_row4_col11\" class=\"data row4 col11\" >-0.024</td>\n",
              "      <td id=\"T_1699c_row4_col12\" class=\"data row4 col12\" >0.028</td>\n",
              "    </tr>\n",
              "    <tr>\n",
              "      <th id=\"T_1699c_level0_row5\" class=\"row_heading level0 row5\" >Powertrain</th>\n",
              "      <td id=\"T_1699c_row5_col0\" class=\"data row5 col0\" >-0.037</td>\n",
              "      <td id=\"T_1699c_row5_col1\" class=\"data row5 col1\" >0.042</td>\n",
              "      <td id=\"T_1699c_row5_col2\" class=\"data row5 col2\" >-0.213</td>\n",
              "      <td id=\"T_1699c_row5_col3\" class=\"data row5 col3\" >-0.206</td>\n",
              "      <td id=\"T_1699c_row5_col4\" class=\"data row5 col4\" >0.051</td>\n",
              "      <td id=\"T_1699c_row5_col5\" class=\"data row5 col5\" >1.000</td>\n",
              "      <td id=\"T_1699c_row5_col6\" class=\"data row5 col6\" >0.138</td>\n",
              "      <td id=\"T_1699c_row5_col7\" class=\"data row5 col7\" >-0.033</td>\n",
              "      <td id=\"T_1699c_row5_col8\" class=\"data row5 col8\" >-0.157</td>\n",
              "      <td id=\"T_1699c_row5_col9\" class=\"data row5 col9\" >-0.013</td>\n",
              "      <td id=\"T_1699c_row5_col10\" class=\"data row5 col10\" >-0.012</td>\n",
              "      <td id=\"T_1699c_row5_col11\" class=\"data row5 col11\" >0.010</td>\n",
              "      <td id=\"T_1699c_row5_col12\" class=\"data row5 col12\" >-0.028</td>\n",
              "    </tr>\n",
              "    <tr>\n",
              "      <th id=\"T_1699c_level0_row6\" class=\"row_heading level0 row6\" >License Status</th>\n",
              "      <td id=\"T_1699c_row6_col0\" class=\"data row6 col0\" >0.143</td>\n",
              "      <td id=\"T_1699c_row6_col1\" class=\"data row6 col1\" >0.196</td>\n",
              "      <td id=\"T_1699c_row6_col2\" class=\"data row6 col2\" >-0.091</td>\n",
              "      <td id=\"T_1699c_row6_col3\" class=\"data row6 col3\" >-0.209</td>\n",
              "      <td id=\"T_1699c_row6_col4\" class=\"data row6 col4\" >-0.006</td>\n",
              "      <td id=\"T_1699c_row6_col5\" class=\"data row6 col5\" >0.138</td>\n",
              "      <td id=\"T_1699c_row6_col6\" class=\"data row6 col6\" >1.000</td>\n",
              "      <td id=\"T_1699c_row6_col7\" class=\"data row6 col7\" >0.233</td>\n",
              "      <td id=\"T_1699c_row6_col8\" class=\"data row6 col8\" >0.161</td>\n",
              "      <td id=\"T_1699c_row6_col9\" class=\"data row6 col9\" >0.011</td>\n",
              "      <td id=\"T_1699c_row6_col10\" class=\"data row6 col10\" >-0.057</td>\n",
              "      <td id=\"T_1699c_row6_col11\" class=\"data row6 col11\" >0.007</td>\n",
              "      <td id=\"T_1699c_row6_col12\" class=\"data row6 col12\" >-0.008</td>\n",
              "    </tr>\n",
              "    <tr>\n",
              "      <th id=\"T_1699c_level0_row7\" class=\"row_heading level0 row7\" >Manufacture Year</th>\n",
              "      <td id=\"T_1699c_row7_col0\" class=\"data row7 col0\" >0.123</td>\n",
              "      <td id=\"T_1699c_row7_col1\" class=\"data row7 col1\" >0.498</td>\n",
              "      <td id=\"T_1699c_row7_col2\" class=\"data row7 col2\" >-0.174</td>\n",
              "      <td id=\"T_1699c_row7_col3\" class=\"data row7 col3\" >-0.653</td>\n",
              "      <td id=\"T_1699c_row7_col4\" class=\"data row7 col4\" >-0.018</td>\n",
              "      <td id=\"T_1699c_row7_col5\" class=\"data row7 col5\" >-0.033</td>\n",
              "      <td id=\"T_1699c_row7_col6\" class=\"data row7 col6\" >0.233</td>\n",
              "      <td id=\"T_1699c_row7_col7\" class=\"data row7 col7\" >1.000</td>\n",
              "      <td id=\"T_1699c_row7_col8\" class=\"data row7 col8\" >0.245</td>\n",
              "      <td id=\"T_1699c_row7_col9\" class=\"data row7 col9\" >0.022</td>\n",
              "      <td id=\"T_1699c_row7_col10\" class=\"data row7 col10\" >-0.013</td>\n",
              "      <td id=\"T_1699c_row7_col11\" class=\"data row7 col11\" >-0.005</td>\n",
              "      <td id=\"T_1699c_row7_col12\" class=\"data row7 col12\" >-0.029</td>\n",
              "    </tr>\n",
              "    <tr>\n",
              "      <th id=\"T_1699c_level0_row8\" class=\"row_heading level0 row8\" >Variant</th>\n",
              "      <td id=\"T_1699c_row8_col0\" class=\"data row8 col0\" >0.341</td>\n",
              "      <td id=\"T_1699c_row8_col1\" class=\"data row8 col1\" >0.121</td>\n",
              "      <td id=\"T_1699c_row8_col2\" class=\"data row8 col2\" >-0.112</td>\n",
              "      <td id=\"T_1699c_row8_col3\" class=\"data row8 col3\" >-0.104</td>\n",
              "      <td id=\"T_1699c_row8_col4\" class=\"data row8 col4\" >0.035</td>\n",
              "      <td id=\"T_1699c_row8_col5\" class=\"data row8 col5\" >-0.157</td>\n",
              "      <td id=\"T_1699c_row8_col6\" class=\"data row8 col6\" >0.161</td>\n",
              "      <td id=\"T_1699c_row8_col7\" class=\"data row8 col7\" >0.245</td>\n",
              "      <td id=\"T_1699c_row8_col8\" class=\"data row8 col8\" >1.000</td>\n",
              "      <td id=\"T_1699c_row8_col9\" class=\"data row8 col9\" >-0.015</td>\n",
              "      <td id=\"T_1699c_row8_col10\" class=\"data row8 col10\" >-0.020</td>\n",
              "      <td id=\"T_1699c_row8_col11\" class=\"data row8 col11\" >-0.009</td>\n",
              "      <td id=\"T_1699c_row8_col12\" class=\"data row8 col12\" >-0.005</td>\n",
              "    </tr>\n",
              "    <tr>\n",
              "      <th id=\"T_1699c_level0_row9\" class=\"row_heading level0 row9\" >Location</th>\n",
              "      <td id=\"T_1699c_row9_col0\" class=\"data row9 col0\" >-0.008</td>\n",
              "      <td id=\"T_1699c_row9_col1\" class=\"data row9 col1\" >0.015</td>\n",
              "      <td id=\"T_1699c_row9_col2\" class=\"data row9 col2\" >-0.015</td>\n",
              "      <td id=\"T_1699c_row9_col3\" class=\"data row9 col3\" >-0.014</td>\n",
              "      <td id=\"T_1699c_row9_col4\" class=\"data row9 col4\" >0.023</td>\n",
              "      <td id=\"T_1699c_row9_col5\" class=\"data row9 col5\" >-0.013</td>\n",
              "      <td id=\"T_1699c_row9_col6\" class=\"data row9 col6\" >0.011</td>\n",
              "      <td id=\"T_1699c_row9_col7\" class=\"data row9 col7\" >0.022</td>\n",
              "      <td id=\"T_1699c_row9_col8\" class=\"data row9 col8\" >-0.015</td>\n",
              "      <td id=\"T_1699c_row9_col9\" class=\"data row9 col9\" >1.000</td>\n",
              "      <td id=\"T_1699c_row9_col10\" class=\"data row9 col10\" >0.028</td>\n",
              "      <td id=\"T_1699c_row9_col11\" class=\"data row9 col11\" >-0.035</td>\n",
              "      <td id=\"T_1699c_row9_col12\" class=\"data row9 col12\" >-0.031</td>\n",
              "    </tr>\n",
              "    <tr>\n",
              "      <th id=\"T_1699c_level0_row10\" class=\"row_heading level0 row10\" >Distance Covered</th>\n",
              "      <td id=\"T_1699c_row10_col0\" class=\"data row10 col0\" >-0.031</td>\n",
              "      <td id=\"T_1699c_row10_col1\" class=\"data row10 col1\" >-0.006</td>\n",
              "      <td id=\"T_1699c_row10_col2\" class=\"data row10 col2\" >0.004</td>\n",
              "      <td id=\"T_1699c_row10_col3\" class=\"data row10 col3\" >0.017</td>\n",
              "      <td id=\"T_1699c_row10_col4\" class=\"data row10 col4\" >0.004</td>\n",
              "      <td id=\"T_1699c_row10_col5\" class=\"data row10 col5\" >-0.012</td>\n",
              "      <td id=\"T_1699c_row10_col6\" class=\"data row10 col6\" >-0.057</td>\n",
              "      <td id=\"T_1699c_row10_col7\" class=\"data row10 col7\" >-0.013</td>\n",
              "      <td id=\"T_1699c_row10_col8\" class=\"data row10 col8\" >-0.020</td>\n",
              "      <td id=\"T_1699c_row10_col9\" class=\"data row10 col9\" >0.028</td>\n",
              "      <td id=\"T_1699c_row10_col10\" class=\"data row10 col10\" >1.000</td>\n",
              "      <td id=\"T_1699c_row10_col11\" class=\"data row10 col11\" >-0.003</td>\n",
              "      <td id=\"T_1699c_row10_col12\" class=\"data row10 col12\" >0.050</td>\n",
              "    </tr>\n",
              "    <tr>\n",
              "      <th id=\"T_1699c_level0_row11\" class=\"row_heading level0 row11\" >Gearbox</th>\n",
              "      <td id=\"T_1699c_row11_col0\" class=\"data row11 col0\" >0.005</td>\n",
              "      <td id=\"T_1699c_row11_col1\" class=\"data row11 col1\" >-0.001</td>\n",
              "      <td id=\"T_1699c_row11_col2\" class=\"data row11 col2\" >-0.007</td>\n",
              "      <td id=\"T_1699c_row11_col3\" class=\"data row11 col3\" >-0.007</td>\n",
              "      <td id=\"T_1699c_row11_col4\" class=\"data row11 col4\" >-0.024</td>\n",
              "      <td id=\"T_1699c_row11_col5\" class=\"data row11 col5\" >0.010</td>\n",
              "      <td id=\"T_1699c_row11_col6\" class=\"data row11 col6\" >0.007</td>\n",
              "      <td id=\"T_1699c_row11_col7\" class=\"data row11 col7\" >-0.005</td>\n",
              "      <td id=\"T_1699c_row11_col8\" class=\"data row11 col8\" >-0.009</td>\n",
              "      <td id=\"T_1699c_row11_col9\" class=\"data row11 col9\" >-0.035</td>\n",
              "      <td id=\"T_1699c_row11_col10\" class=\"data row11 col10\" >-0.003</td>\n",
              "      <td id=\"T_1699c_row11_col11\" class=\"data row11 col11\" >1.000</td>\n",
              "      <td id=\"T_1699c_row11_col12\" class=\"data row11 col12\" >0.013</td>\n",
              "    </tr>\n",
              "    <tr>\n",
              "      <th id=\"T_1699c_level0_row12\" class=\"row_heading level0 row12\" >Owner_Type</th>\n",
              "      <td id=\"T_1699c_row12_col0\" class=\"data row12 col0\" >0.013</td>\n",
              "      <td id=\"T_1699c_row12_col1\" class=\"data row12 col1\" >-0.035</td>\n",
              "      <td id=\"T_1699c_row12_col2\" class=\"data row12 col2\" >0.002</td>\n",
              "      <td id=\"T_1699c_row12_col3\" class=\"data row12 col3\" >0.009</td>\n",
              "      <td id=\"T_1699c_row12_col4\" class=\"data row12 col4\" >0.028</td>\n",
              "      <td id=\"T_1699c_row12_col5\" class=\"data row12 col5\" >-0.028</td>\n",
              "      <td id=\"T_1699c_row12_col6\" class=\"data row12 col6\" >-0.008</td>\n",
              "      <td id=\"T_1699c_row12_col7\" class=\"data row12 col7\" >-0.029</td>\n",
              "      <td id=\"T_1699c_row12_col8\" class=\"data row12 col8\" >-0.005</td>\n",
              "      <td id=\"T_1699c_row12_col9\" class=\"data row12 col9\" >-0.031</td>\n",
              "      <td id=\"T_1699c_row12_col10\" class=\"data row12 col10\" >0.050</td>\n",
              "      <td id=\"T_1699c_row12_col11\" class=\"data row12 col11\" >0.013</td>\n",
              "      <td id=\"T_1699c_row12_col12\" class=\"data row12 col12\" >1.000</td>\n",
              "    </tr>\n",
              "  </tbody>\n",
              "</table>\n"
            ]
          },
          "metadata": {},
          "execution_count": 54
        }
      ]
    },
    {
      "cell_type": "code",
      "source": [
        "def columns_dropping(df):\n",
        "  # Dropping the columns with low correlation to the price column\n",
        "  # df = df.drop(columns=['Variant'])\n",
        "  # df = df.drop(columns=['Engine Volume'])\n",
        "  # df = df.drop(columns=['Powertrain'])\n",
        "  # df = df.drop(columns=['Owner_Type'])\n",
        "  # df = df.drop(columns=['Location'])\n",
        "  # df = df.drop(columns=['Distance Covered'])\n",
        "  df = df.drop(columns=['Gearbox'])\n",
        "  return df\n",
        "\n",
        "dataset = columns_dropping(dataset)"
      ],
      "metadata": {
        "id": "NONDeX-AkFgr"
      },
      "execution_count": 55,
      "outputs": []
    },
    {
      "cell_type": "markdown",
      "source": [
        "### Data splitting"
      ],
      "metadata": {
        "id": "obyCUB5YK07R"
      }
    },
    {
      "cell_type": "code",
      "source": [
        "target_name = \"Price\"\n",
        "\n",
        "x = dataset.drop(columns=target_name)\n",
        "y = dataset[target_name]\n",
        "\n",
        "x_train, x_test, y_train, y_test = train_test_split(x, y, test_size=0.16, random_state=1)"
      ],
      "metadata": {
        "id": "8bZK0PMOK4wv"
      },
      "execution_count": 56,
      "outputs": []
    },
    {
      "cell_type": "markdown",
      "source": [
        "# Training"
      ],
      "metadata": {
        "id": "8Js-_rzMMPCM"
      }
    },
    {
      "cell_type": "markdown",
      "source": [
        "### Linear Regression"
      ],
      "metadata": {
        "id": "K1tUPDIDMQ2A"
      }
    },
    {
      "cell_type": "code",
      "source": [
        "linearRegressor = LinearRegression()\n",
        "\n",
        "linearRegressor.fit(x_train, y_train)\n",
        "\n",
        "linearReg_y_pred = linearRegressor.predict(x_test)"
      ],
      "metadata": {
        "id": "Cb8JdX5QMuvS"
      },
      "execution_count": 57,
      "outputs": []
    },
    {
      "cell_type": "markdown",
      "source": [
        "### Lasso Regression"
      ],
      "metadata": {
        "id": "o8QyL9-EMsN3"
      }
    },
    {
      "cell_type": "code",
      "source": [
        "lassoRegressor = Lasso()\n",
        "\n",
        "lassoRegressor.fit(x_train, y_train)\n",
        "\n",
        "lassoReg_y_pred = lassoRegressor.predict(x_test)"
      ],
      "metadata": {
        "id": "pBEySuy9MvbR"
      },
      "execution_count": 58,
      "outputs": []
    },
    {
      "cell_type": "markdown",
      "source": [
        "\n",
        "### LightGBM Regression"
      ],
      "metadata": {
        "id": "WHZisytmMtka"
      }
    },
    {
      "cell_type": "code",
      "source": [
        "lightGBMRegressor = lgb.LGBMRegressor(boosting_type='gbdt', num_leaves=31, n_estimators=200, reg_lambda=1.0)\n",
        "\n",
        "lightGBMRegressor.fit(x_train, y_train)\n",
        "\n",
        "lightGBM_y_pred = lightGBMRegressor.predict(x_test)"
      ],
      "metadata": {
        "colab": {
          "base_uri": "https://localhost:8080/"
        },
        "id": "7nkhOHNVMwMi",
        "outputId": "39c1d554-3d59-42ea-b752-6bab7579acc4"
      },
      "execution_count": 59,
      "outputs": [
        {
          "output_type": "stream",
          "name": "stdout",
          "text": [
            "[LightGBM] [Warning] Found whitespace in feature_names, replace with underlines\n",
            "[LightGBM] [Info] Auto-choosing row-wise multi-threading, the overhead of testing was 0.000261 seconds.\n",
            "You can set `force_row_wise=true` to remove the overhead.\n",
            "And if memory is not enough, you can set `force_col_wise=true`.\n",
            "[LightGBM] [Info] Total Bins 826\n",
            "[LightGBM] [Info] Number of data points in the train set: 2356, number of used features: 11\n",
            "[LightGBM] [Info] Start training from score 211364.071910\n"
          ]
        }
      ]
    },
    {
      "cell_type": "markdown",
      "source": [
        "### XGB Regressor"
      ],
      "metadata": {
        "id": "TjyT2UtSqjGt"
      }
    },
    {
      "cell_type": "code",
      "source": [
        "xGBRegressor = XGBRegressor()\n",
        "\n",
        "xGBRegressor.fit(x_train, y_train)\n",
        "\n",
        "XGB_y_pred = xGBRegressor.predict(x_test)"
      ],
      "metadata": {
        "id": "ZcGhFyy4qlO6"
      },
      "execution_count": 60,
      "outputs": []
    },
    {
      "cell_type": "markdown",
      "source": [
        "\n",
        "### Random Forest Regression"
      ],
      "metadata": {
        "id": "paww1tYrMqnh"
      }
    },
    {
      "cell_type": "code",
      "source": [
        "randomForestRegressor = RandomForestRegressor()\n",
        "\n",
        "randomForestRegressor.fit(x_train, y_train)\n",
        "\n",
        "randomForest_y_pred = randomForestRegressor.predict(x_test)"
      ],
      "metadata": {
        "id": "rlETEMxZMwmp"
      },
      "execution_count": 61,
      "outputs": []
    },
    {
      "cell_type": "markdown",
      "source": [
        "### Decision Tree Regressor"
      ],
      "metadata": {
        "id": "554PC1LzlZoF"
      }
    },
    {
      "cell_type": "code",
      "source": [
        "decisionTreeRegressor = DecisionTreeRegressor()\n",
        "\n",
        "decisionTreeRegressor.fit(x_train, y_train)\n",
        "\n",
        "decisionTree_y_pred = decisionTreeRegressor.predict(x_test)"
      ],
      "metadata": {
        "id": "8t9LBsU6lb93"
      },
      "execution_count": 62,
      "outputs": []
    },
    {
      "cell_type": "markdown",
      "source": [
        "# Algorithms comparison"
      ],
      "metadata": {
        "id": "syJkHzMoOTXk"
      }
    },
    {
      "cell_type": "markdown",
      "source": [
        "### Predicted vs actual values"
      ],
      "metadata": {
        "id": "48RC2YuNP8Gp"
      }
    },
    {
      "cell_type": "code",
      "source": [
        "### Displaying the linearity between the predicted values and the actual values\n",
        "\n",
        "figure, axis = plt.subplots(2, 3, figsize=(15, 8))\n",
        "\n",
        "figure.tight_layout(pad=4.0)\n",
        "figure.supxlabel('Actual Prices')\n",
        "figure.supylabel('Predicted Prices')\n",
        "\n",
        "axis[0, 0].scatter(y_test, linearReg_y_pred)\n",
        "axis[0, 0].set_title(\"Linear Regression\")\n",
        "\n",
        "axis[0, 1].scatter(y_test, lassoReg_y_pred)\n",
        "axis[0, 1].set_title(\"Lasso Regression\")\n",
        "\n",
        "axis[0, 2].scatter(y_test, lightGBM_y_pred)\n",
        "axis[0, 2].set_title(\"LightGBM Regression\")\n",
        "\n",
        "axis[1, 0].scatter(y_test, XGB_y_pred)\n",
        "axis[1, 0].set_title(\"XGB Regressor\")\n",
        "\n",
        "axis[1, 1].scatter(y_test, randomForest_y_pred)\n",
        "axis[1, 1].set_title(\"Random Forest Regression\")\n",
        "\n",
        "axis[1, 2].scatter(y_test, decisionTree_y_pred)\n",
        "axis[1, 2].set_title(\"Decision Tree Regression\")"
      ],
      "metadata": {
        "colab": {
          "base_uri": "https://localhost:8080/",
          "height": 807
        },
        "id": "CcmEqde3QCGr",
        "outputId": "4d00be8b-71fa-4a9b-e16b-99da917ed265"
      },
      "execution_count": 63,
      "outputs": [
        {
          "output_type": "execute_result",
          "data": {
            "text/plain": [
              "Text(0.5, 1.0, 'Decision Tree Regression')"
            ]
          },
          "metadata": {},
          "execution_count": 63
        },
        {
          "output_type": "display_data",
          "data": {
            "text/plain": [
              "<Figure size 1500x800 with 6 Axes>"
            ],
            "image/png": "[encoded data removed]"
          },
          "metadata": {}
        }
      ]
    },
    {
      "cell_type": "markdown",
      "source": [
        "### The error and score of each algorithm"
      ],
      "metadata": {
        "id": "WvdQfOL56HOu"
      }
    },
    {
      "cell_type": "code",
      "source": [
        "def addlabels(fig, x,y):\n",
        "    for i in range(len(x)):\n",
        "        fig.text(i,y[i],y[i], ha = 'center')\n",
        "\n",
        "figure, axis = plt.subplots(2, 2, figsize=(16, 10))\n",
        "\n",
        "figure.tight_layout(pad=4.0)\n",
        "\n",
        "x_labels = [\"linearReg\", \"lassoReg\", \"lightGBM\", \"xGBRegressor\", \"randomForest\", \"decisionTree\"]\n",
        "\n",
        "r2_y_values = [r2_score(y_test, linearReg_y_pred), r2_score(y_test, lassoReg_y_pred), r2_score(y_test, lightGBM_y_pred), r2_score(y_test, XGB_y_pred), r2_score(y_test, randomForest_y_pred), r2_score(y_test, decisionTree_y_pred)]\n",
        "mse_y_valus = [mean_squared_error(y_test, linearReg_y_pred), mean_squared_error(y_test, lassoReg_y_pred), mean_squared_error(y_test, lightGBM_y_pred), mean_squared_error(y_test, XGB_y_pred), mean_squared_error(y_test, randomForest_y_pred), mean_squared_error(y_test, decisionTree_y_pred)]\n",
        "medianse_y_values = [median_absolute_error(y_test, linearReg_y_pred), median_absolute_error(y_test, lassoReg_y_pred), median_absolute_error(y_test, lightGBM_y_pred), median_absolute_error(y_test, XGB_y_pred), median_absolute_error(y_test, randomForest_y_pred), median_absolute_error(y_test, decisionTree_y_pred)]\n",
        "mae_y_values = [mean_absolute_error(y_test, linearReg_y_pred), mean_absolute_error(y_test, lassoReg_y_pred), mean_absolute_error(y_test, lightGBM_y_pred), mean_absolute_error(y_test, XGB_y_pred), mean_absolute_error(y_test, randomForest_y_pred), mean_absolute_error(y_test, decisionTree_y_pred)]\n",
        "\n",
        "axis[0, 0].bar(x_labels, r2_y_values)\n",
        "axis[0, 0].set_title(\"R2 Score\")\n",
        "addlabels(axis[0, 0], x_labels, list(map(lambda num: round(num, 6), r2_y_values)))\n",
        "\n",
        "axis[0, 1].bar(x_labels, mse_y_valus)\n",
        "axis[0, 1].set_title(\"Mean Squared Error (MSE)\")\n",
        "addlabels(axis[0, 1], x_labels, list(map(int, mse_y_valus)))\n",
        "\n",
        "axis[1, 0].bar(x_labels, medianse_y_values)\n",
        "axis[1, 0].set_title(\"Median Absolute Error\")\n",
        "addlabels(axis[1, 0], x_labels, list(map(int, medianse_y_values)))\n",
        "\n",
        "axis[1, 1].bar(x_labels, mae_y_values)\n",
        "axis[1, 1].set_title(\"Mean Absolute Error (MAE)\")\n",
        "addlabels(axis[1, 1], x_labels, list(map(int, mae_y_values)))"
      ],
      "metadata": {
        "colab": {
          "base_uri": "https://localhost:8080/",
          "height": 927
        },
        "id": "KfEKMevc6Gmw",
        "outputId": "13df904b-023e-42dc-bbb9-81221d51bdc2"
      },
      "execution_count": 64,
      "outputs": [
        {
          "output_type": "display_data",
          "data": {
            "text/plain": [
              "<Figure size 1600x1000 with 4 Axes>"
            ],
            "image/png": "[encoded data removed]"
          },
          "metadata": {}
        }
      ]
    },
    {
      "cell_type": "markdown",
      "source": [
        "# Submission"
      ],
      "metadata": {
        "id": "GuwC4rWU5gHm"
      }
    },
    {
      "cell_type": "markdown",
      "source": [
        "### Loading the submission input data"
      ],
      "metadata": {
        "id": "dYXOub1eOeFi"
      }
    },
    {
      "cell_type": "code",
      "source": [
        "submission_input_dataset = pd.read_csv('submission_x_values.csv').set_index('index')\n",
        "\n",
        "pre_processed_submission_input_dataset = pre_processing(submission_input_dataset, True)\n",
        "pre_processed_submission_input_dataset = columns_dropping(pre_processed_submission_input_dataset)\n",
        "X_submission = pre_processed_submission_input_dataset.values"
      ],
      "metadata": {
        "id": "QCOXdRpWKHnb"
      },
      "execution_count": 65,
      "outputs": []
    },
    {
      "cell_type": "markdown",
      "source": [
        "\n",
        "### Loading the validation data"
      ],
      "metadata": {
        "id": "x42QBCnEWief"
      }
    },
    {
      "cell_type": "code",
      "source": [
        "validation_dataset = pd.read_csv('submission_y_values_real.csv').set_index('index').sort_index()\n",
        "validation_dataset['Price']"
      ],
      "metadata": {
        "colab": {
          "base_uri": "https://localhost:8080/"
        },
        "id": "nYHjOGWOO7Sm",
        "outputId": "884b4ab1-fab5-47f2-b04a-be3ef96f59c1"
      },
      "execution_count": 66,
      "outputs": [
        {
          "output_type": "execute_result",
          "data": {
            "text/plain": [
              "index\n",
              "1        85900.0\n",
              "7       155200.0\n",
              "11       26500.0\n",
              "17      290500.0\n",
              "26      146226.0\n",
              "          ...   \n",
              "4016    305900.0\n",
              "4017     22100.0\n",
              "4018     71800.0\n",
              "4022     70500.0\n",
              "4024    147500.0\n",
              "Name: Price, Length: 1208, dtype: float64"
            ]
          },
          "metadata": {},
          "execution_count": 66
        }
      ]
    },
    {
      "cell_type": "markdown",
      "source": [
        "### Price prediction and comparison"
      ],
      "metadata": {
        "id": "g2TuJV5cOmFr"
      }
    },
    {
      "cell_type": "code",
      "source": [
        "# Predict the price values using the LightGBM Regressor algorithm\n",
        "y_pred_submission = lightGBMRegressor.predict(X_submission)\n",
        "df = pd.DataFrame(y_pred_submission, columns=['Price'])\n",
        "\n",
        "# Displaying the predicted price values\n",
        "df['Price']"
      ],
      "metadata": {
        "colab": {
          "base_uri": "https://localhost:8080/"
        },
        "id": "5J5zH3yxOmfE",
        "outputId": "17549a25-ac90-4248-ee8b-45dea4526ca1"
      },
      "execution_count": 67,
      "outputs": [
        {
          "output_type": "execute_result",
          "data": {
            "text/plain": [
              "0        91452.488095\n",
              "1       152861.115809\n",
              "2        24734.753984\n",
              "3       260319.247930\n",
              "4       168171.800262\n",
              "            ...      \n",
              "1203    354691.657167\n",
              "1204     22335.765213\n",
              "1205     64375.204634\n",
              "1206     -9284.360380\n",
              "1207    236954.757420\n",
              "Name: Price, Length: 1208, dtype: float64"
            ]
          },
          "metadata": {},
          "execution_count": 67
        }
      ]
    },
    {
      "cell_type": "code",
      "source": [
        "print(\"R2 Score :\", r2_score(validation_dataset['Price'], y_pred_submission))\n",
        "print(\"Mean Squared Error (MSE) :\", mean_squared_error(validation_dataset['Price'], y_pred_submission))\n",
        "print(\"Median Absolute Error :\", median_absolute_error(validation_dataset['Price'], y_pred_submission))\n",
        "print(\"Mean Absolute Error (MAE) :\", mean_absolute_error(validation_dataset['Price'], y_pred_submission))"
      ],
      "metadata": {
        "colab": {
          "base_uri": "https://localhost:8080/"
        },
        "id": "PG3FqFw-Xngn",
        "outputId": "140d8d29-7d2d-429f-fa78-4a16232e5ad4"
      },
      "execution_count": 68,
      "outputs": [
        {
          "output_type": "stream",
          "name": "stdout",
          "text": [
            "R2 Score : 0.8236857371189166\n",
            "Mean Squared Error (MSE) : 16052537010.977186\n",
            "Median Absolute Error : 18339.420954810656\n",
            "Mean Absolute Error (MAE) : 40652.00353492181\n"
          ]
        }
      ]
    },
    {
      "cell_type": "markdown",
      "source": [
        "### Saving the submission file"
      ],
      "metadata": {
        "id": "QVoAzb0YO485"
      }
    },
    {
      "cell_type": "code",
      "source": [
        "submission_input_dataset[target_name] = y_pred_submission\n",
        "submission_input_dataset.to_csv('submission_y_values_predicted.csv', index=False, encoding='UTF-8')"
      ],
      "metadata": {
        "id": "H9IIvS5j5mFL"
      },
      "execution_count": 69,
      "outputs": []
    },
    {
      "cell_type": "markdown",
      "source": [
        "### Saving the model"
      ],
      "metadata": {
        "id": "olpwPTUTO9_w"
      }
    },
    {
      "cell_type": "code",
      "source": [
        "lightGBMRegressor.booster_.save_model('LightGBR_Model.txt')"
      ],
      "metadata": {
        "colab": {
          "base_uri": "https://localhost:8080/"
        },
        "id": "cNN2OLINO3B_",
        "outputId": "bba658b1-7595-45bc-aba4-d2bd03d4c8a3"
      },
      "execution_count": 70,
      "outputs": [
        {
          "output_type": "execute_result",
          "data": {
            "text/plain": [
              "<lightgbm.basic.Booster at 0x7f4b123f59c0>"
            ]
          },
          "metadata": {},
          "execution_count": 70
        }
      ]
    }
  ]
}